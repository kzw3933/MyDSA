{
 "cells": [
  {
   "cell_type": "markdown",
   "id": "847d5ba4",
   "metadata": {},
   "source": [
    "### 数组理论基础\n",
    "\n",
    "数组是存放在连续内存空间上的相同类型数据的集合。\n",
    "\n",
    "```\n",
    "1. 数组下标都是从0开始的。\n",
    "2. 数组内存空间的地址是连续的。(对于多维数组，不同编程语言的内存管理不同，因而在内存中可能是不连续的)\n",
    "```"
   ]
  },
  {
   "cell_type": "markdown",
   "id": "f9b3dfd1",
   "metadata": {},
   "source": [
    "### 数组例题"
   ]
  },
  {
   "cell_type": "markdown",
   "id": "986a0b0d",
   "metadata": {},
   "source": [
    "#### 二分查找"
   ]
  },
  {
   "cell_type": "markdown",
   "id": "76ac9259",
   "metadata": {},
   "source": [
    "给定一个 n 个元素有序的（升序）整型数组 nums 和一个目标值 target  ，写一个函数搜索 nums 中的 target，如果目标值存在返回下标，否则返回 -1。\n",
    "\n",
    "```\n",
    "示例 1:\n",
    "\n",
    "输入: nums = [-1,0,3,5,9,12], target = 9     \n",
    "输出: 4       \n",
    "解释: 9 出现在 nums 中并且下标为 4 \n",
    "\n",
    "```\n",
    "```\n",
    "示例 2:\n",
    "\n",
    "输入: nums = [-1,0,3,5,9,12], target = 2     \n",
    "输出: -1        \n",
    "解释: 2 不存在 nums 中因此返回 -1  \n",
    "```\n",
    "\n",
    "```\n",
    "提示:\n",
    "\n",
    "- 你可以假设 nums 中的所有元素是不重复的。\n",
    "- n 将在 [1, 10000]之间。\n",
    "- nums 的每个元素都将在 [-9999, 9999]之间。\n",
    "\n",
    "```"
   ]
  },
  {
   "cell_type": "code",
   "execution_count": 1,
   "id": "7130d525",
   "metadata": {},
   "outputs": [
    {
     "name": "stdout",
     "output_type": "stream",
     "text": [
      "The result is 6"
     ]
    }
   ],
   "source": [
    "// 自己的题解\n",
    "\n",
    "#include <iostream>\n",
    "#include <vector>\n",
    "\n",
    "using namespace std;\n",
    "\n",
    "class Solution {\n",
    "public: \n",
    "    int search(vector<int>& nums, int target) {\n",
    "        int left = 0;\n",
    "        int right = nums.size()-1;   // 采用区间为[left, right],right初始化为size-1\n",
    "        int middle = (left + right)/2;\n",
    "        while(true) {\n",
    "            if(nums[middle] == target) return middle;\n",
    "            else if(nums[middle] < target) {\n",
    "                left = middle+1;\n",
    "                middle = (left + right)/2;\n",
    "            }\n",
    "            else {\n",
    "                right = middle-1;\n",
    "                middle = (left + right)/2;\n",
    "            }\n",
    "            if(right < left) return -1;\n",
    "        }  \n",
    "    }\n",
    "};\n",
    "\n",
    "vector<int> nums = {1,2,3,4,7,9,10};\n",
    "int target = 10;\n",
    "Solution solution;\n",
    "\n",
    "cout << \"The result is \" << solution.search(nums, target);"
   ]
  },
  {
   "cell_type": "code",
   "execution_count": null,
   "id": "0533fa66",
   "metadata": {},
   "outputs": [],
   "source": [
    "// 代码随想录题解\n",
    "\n",
    "class Solution {\n",
    "public:\n",
    "    int search(vector<int>& nums, int target) {\n",
    "        int left = 0;\n",
    "        int right = nums.size() - 1; // 定义target在左闭右闭的区间里，[left, right]\n",
    "        while (left <= right) { // 当left==right，区间[left, right]依然有效，所以用 <=\n",
    "            int middle = left + ((right - left) / 2);// 防止溢出 等同于(left + right)/2\n",
    "            if (nums[middle] > target) {\n",
    "                right = middle - 1; // target 在左区间，所以[left, middle - 1]\n",
    "            } else if (nums[middle] < target) {\n",
    "                left = middle + 1; // target 在右区间，所以[middle + 1, right]\n",
    "            } else { // nums[middle] == target\n",
    "                return middle; // 数组中找到目标值，直接返回下标\n",
    "            }\n",
    "        }\n",
    "        // 未找到目标值\n",
    "        return -1;\n",
    "    }\n",
    "};"
   ]
  },
  {
   "cell_type": "markdown",
   "id": "14fc1243",
   "metadata": {},
   "source": [
    "自己的代码中含有一些冗余,另外自己采用的区间为[left,right],也可采用区间为[left,right)的方式构建算法\n",
    "\n",
    "代码可进一步精简为:\n",
    "\n",
    "```c++\n",
    "class Solution {\n",
    "public: \n",
    "    int search(vector<int>& nums, int target) {\n",
    "        int left = 0;\n",
    "        int right = nums.size()-1;   // 采用区间为[left, right],right初始化为size-1\n",
    "        while(right < left) {\n",
    "            int middle = (left + right)/2; \n",
    "            if(nums[middle] == target) return middle;\n",
    "            else if(nums[middle] < target) {\n",
    "                left = middle+1;\n",
    "                middle = (left + right)/2;\n",
    "            }\n",
    "            else {\n",
    "                right = middle-1;\n",
    "                middle = (left + right)/2;\n",
    "            }\n",
    "        }  \n",
    "        return -1;\n",
    "    }\n",
    "};\n",
    "```"
   ]
  },
  {
   "cell_type": "markdown",
   "id": "3cc808e0",
   "metadata": {},
   "source": [
    "#### 移除元素"
   ]
  },
  {
   "cell_type": "markdown",
   "id": "10cb1ba8",
   "metadata": {},
   "source": [
    "给你一个数组 nums 和一个值 val，你需要 原地 移除所有数值等于 val 的元素，并返回移除后数组的新长度。\n",
    "\n",
    "不要使用额外的数组空间，你必须仅使用 O(1) 额外空间并原地修改输入数组。\n",
    "\n",
    "元素的顺序可以改变。你不需要考虑数组中超出新长度后面的元素。\n",
    "\n",
    "```\n",
    "示例 1: \n",
    "\n",
    "给定 nums = [3,2,2,3], val = 3, 函数应该返回新的长度 2, 并且 nums 中的前两个元素均为 2。 你不需要考虑数组中超出新长度后面的元素。\n",
    "```\n",
    "\n",
    "```\n",
    "示例 2: \n",
    "\n",
    "给定 nums = [0,1,2,2,3,0,4,2], val = 2, 函数应该返回新的长度 5, 并且 nums 中的前五个元素为 0, 1, 3, 0, 4。\n",
    "```\n",
    "\n",
    "```\n",
    "提示:\n",
    "\n",
    "你不需要考虑数组中超出新长度后面的元素。\n",
    "```"
   ]
  },
  {
   "cell_type": "code",
   "execution_count": 2,
   "id": "66dc3dd6",
   "metadata": {},
   "outputs": [
    {
     "name": "stdout",
     "output_type": "stream",
     "text": [
      "The num of new vector is: 5"
     ]
    }
   ],
   "source": [
    "//  自己的题解\n",
    "\n",
    "#include <iostream>\n",
    "#include <vector>\n",
    "\n",
    "using namespace std;\n",
    "\n",
    "class Solution {\n",
    "public:\n",
    "    int removeElement(vector<int>& nums, int element) {\n",
    "        int length = nums.size();\n",
    "        int lastIndex = length - 1; \n",
    "        for(int i=0; i <= lastIndex; i++) {\n",
    "            while(nums[i] == element) {\n",
    "                nums[i] = nums[lastIndex];\n",
    "                nums[lastIndex] = element; // 此行可省略，题目说明不考虑超出新长度后面的元素\n",
    "                lastIndex -= 1;\n",
    "            }\n",
    "        }\n",
    "        return lastIndex + 1;\n",
    "    }\n",
    "};\n",
    "\n",
    "vector<int> nums = {0,1,2,2,3,0,4,2};\n",
    "int element = 2;\n",
    "Solution solution;\n",
    "\n",
    "cout << \"The num of new vector is: \" \n",
    "     << solution.removeElement(nums, element);"
   ]
  },
  {
   "cell_type": "code",
   "execution_count": null,
   "id": "270879d8",
   "metadata": {},
   "outputs": [],
   "source": [
    "// 代码随想录题解1： 暴力解法\n",
    "\n",
    "class Solution {\n",
    "public:\n",
    "    int removeElement(vector<int>& nums, int val) {\n",
    "        int size = nums.size();\n",
    "        for (int i = 0; i < size; i++) {\n",
    "            if (nums[i] == val) { // 发现需要移除的元素，就将数组集体向前移动一位\n",
    "                for (int j = i + 1; j < size; j++) {\n",
    "                    nums[j - 1] = nums[j];\n",
    "                }\n",
    "                i--; // 因为下标i以后的数值都向前移动了一位，所以i也向前移动一位\n",
    "                size--; // 此时数组的大小-1\n",
    "            }\n",
    "        }\n",
    "        return size;\n",
    "\n",
    "    }\n",
    "};"
   ]
  },
  {
   "cell_type": "code",
   "execution_count": null,
   "id": "a5e6fbaf",
   "metadata": {},
   "outputs": [],
   "source": [
    "// 代码随想录题解2： 双指针法( 通过一个快指针和慢指针在一个for循环下完成两个for循环的工作。)\n",
    "// 定义快慢指针 \n",
    "// 快指针：寻找新数组的元素 ，新数组就是不含有目标元素的数组\n",
    "// 慢指针：指向更新 新数组下标的位置\n",
    "\n",
    "class Solution {\n",
    "public:\n",
    "    int removeElement(vector<int>& nums, int val) {\n",
    "        int slowIndex = 0;\n",
    "        for (int fastIndex = 0; fastIndex < nums.size(); fastIndex++) {\n",
    "            if (val != nums[fastIndex]) {\n",
    "                nums[slowIndex++] = nums[fastIndex];\n",
    "            }\n",
    "        }\n",
    "        return slowIndex;\n",
    "    }\n",
    "};"
   ]
  },
  {
   "cell_type": "markdown",
   "id": "8eda4328",
   "metadata": {},
   "source": [
    "通过比较，自己的题解中也采用了类似双指针的思想,lastIndex代表下一个放带移除element的位置,另外此题自己的题解中一个较易出错的点是: 外层循环条件的判断要使用lastIndex,而不是length"
   ]
  },
  {
   "cell_type": "markdown",
   "id": "86b39360",
   "metadata": {},
   "source": [
    "### 有序数组的平方"
   ]
  },
  {
   "cell_type": "markdown",
   "id": "542f53d5",
   "metadata": {},
   "source": [
    "给你一个按 非递减顺序 排序的整数数组 nums，返回 每个数字的平方 组成的新数组，要求也按 非递减顺序 排序。\n",
    "\n",
    "```\n",
    "示例 1： \n",
    "\n",
    "输入：nums = [-4,-1,0,3,10] 输出：[0,1,9,16,100] 解释：平方后，数组变为 [16,1,0,9,100]，排序后，数组变为 [0,1,9,16,100]\n",
    "```\n",
    "```\n",
    "示例 2： \n",
    "\n",
    "输入：nums = [-7,-3,2,3,11] 输出：[4,9,9,49,121]\n",
    "```"
   ]
  },
  {
   "cell_type": "code",
   "execution_count": 1,
   "id": "8b270d7e",
   "metadata": {},
   "outputs": [
    {
     "name": "stdout",
     "output_type": "stream",
     "text": [
      "The result is:\n",
      "0\n",
      "1\n",
      "9\n",
      "16\n",
      "100\n"
     ]
    }
   ],
   "source": [
    "// 自己的题解\n",
    "\n",
    "#include <iostream>\n",
    "#include <vector>\n",
    "\n",
    "using namespace std;\n",
    "\n",
    "class Solution {\n",
    "public:\n",
    "    vector<int> sortedSquares(vector<int>& nums) {\n",
    "        int length = nums.size();\n",
    "        int firstPositiveNumIndex;\n",
    "        for(int i = 0; i < length; i++) {\n",
    "            if(nums[i] >= 0) {\n",
    "                firstPositiveNumIndex = i;\n",
    "                break;\n",
    "            }\n",
    "        }\n",
    "        \n",
    "        vector<int> result(length, 0);\n",
    "        for(int l = firstPositiveNumIndex - 1,r = firstPositiveNumIndex, i=0;\n",
    "            i < length; i++) {\n",
    "            if(l > -1 && r < length) {\n",
    "                if(nums[l] * nums[l] < nums[r] * nums[r]) {\n",
    "                    result[i] = nums[l] * nums[l];\n",
    "                    l--;\n",
    "                }\n",
    "                else {\n",
    "                    result[i] = nums[r] * nums[r];\n",
    "                    r++;\n",
    "                }\n",
    "            }\n",
    "            else if(l > -1) {\n",
    "                result[i] = nums[l] * nums[l];\n",
    "                l--;\n",
    "            }\n",
    "            else {\n",
    "                result[i] = nums[r] * nums[r];\n",
    "                r++;\n",
    "            }\n",
    "        }\n",
    "        \n",
    "        return result;\n",
    "    }\n",
    "};\n",
    "\n",
    "vector<int> nums = {-4,-1,0,3,10};\n",
    "Solution solution;\n",
    "vector<int> result = solution.sortedSquares(nums);\n",
    "\n",
    "cout << \"The result is:\" << endl;\n",
    "for(int i = 0; i < result.size(); i++) {\n",
    "    cout << result[i] << endl;\n",
    "}"
   ]
  },
  {
   "cell_type": "code",
   "execution_count": null,
   "id": "a3464fb1",
   "metadata": {},
   "outputs": [],
   "source": [
    "// 代码随想录题解1: 暴力排序\n",
    "\n",
    "class Solution {\n",
    "public:\n",
    "    vector<int> sortedSquares(vector<int>& A) {\n",
    "        for (int i = 0; i < A.size(); i++) {\n",
    "            A[i] *= A[i];\n",
    "        }\n",
    "        sort(A.begin(), A.end()); // 快速排序\n",
    "        return A;\n",
    "    }\n",
    "};"
   ]
  },
  {
   "cell_type": "code",
   "execution_count": null,
   "id": "f657d312",
   "metadata": {},
   "outputs": [],
   "source": [
    "// 代码随想录题解2: 双指针法\n",
    "\n",
    "class Solution {\n",
    "public:\n",
    "    vector<int> sortedSquares(vector<int>& A) {\n",
    "        int k = A.size() - 1;\n",
    "        vector<int> result(A.size(), 0);\n",
    "        for (int i = 0, j = A.size() - 1; i <= j;) { // 注意这里要i <= j，因为最后要处理两个元素\n",
    "            if (A[i] * A[i] < A[j] * A[j])  {\n",
    "                result[k--] = A[j] * A[j];\n",
    "                j--;\n",
    "            }\n",
    "            else {\n",
    "                result[k--] = A[i] * A[i];\n",
    "                i++;\n",
    "            }\n",
    "        }\n",
    "        return result;\n",
    "    }\n",
    "};"
   ]
  },
  {
   "cell_type": "markdown",
   "id": "ba9d5634",
   "metadata": {},
   "source": [
    "通过比较，自己的题解中也使用了双指针法,与代码随想录的双指针区别在于我是从按升序填充结果数组。这道题容易让人联想到两个有序数组的合并算法。"
   ]
  }
 ],
 "metadata": {
  "kernelspec": {
   "display_name": "C++17",
   "language": "C++17",
   "name": "xcpp17"
  },
  "language_info": {
   "codemirror_mode": "text/x-c++src",
   "file_extension": ".cpp",
   "mimetype": "text/x-c++src",
   "name": "c++",
   "version": "17"
  }
 },
 "nbformat": 4,
 "nbformat_minor": 5
}
